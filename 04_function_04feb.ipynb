{
 "cells": [
  {
   "cell_type": "markdown",
   "metadata": {},
   "source": [
    "# Q1. Create a python program to sort the given list of tuples based on integer value using a lambda function. \n",
    "Certainly! Here's an example of a Python program that sorts a given list of tuples based on the integer value using a lambda function:\n",
    "\n",
    "```python\n",
    "# List of tuples\n",
    "data = [(4, 'Apple'), (2, 'Orange'), (1, 'Banana'), (3, 'Grape')]\n",
    "\n",
    "# Sort the list based on the integer value using a lambda function\n",
    "sorted_data = sorted(data, key=lambda x: x[0])\n",
    "\n",
    "# Print the sorted list\n",
    "for item in sorted_data:\n",
    "    print(item)\n",
    "```\n",
    "\n",
    "In this program, we have a list of tuples called `data`, where each tuple contains an integer and a corresponding string. We use the `sorted()` function to sort the list based on the first element of each tuple (`x[0]`).\n",
    "\n",
    "The `key` parameter in the `sorted()` function is set to a lambda function. The lambda function takes each tuple (`x`) and returns the first element (`x[0]`) as the value to be used for sorting.\n",
    "\n",
    "The resulting sorted list is stored in the `sorted_data` variable, and we then iterate over it and print each tuple to display the sorted output.\n",
    "\n",
    "When you run this program, you will see the list of tuples sorted based on the integer value. The output will be:\n",
    "\n",
    "```\n",
    "(1, 'Banana')\n",
    "(2, 'Orange')\n",
    "(3, 'Grape')\n",
    "(4, 'Apple')\n",
    "```\n",
    "\n",
    "Note that the sorting is done in ascending order based on the integer value. If you want to sort in descending order, you can modify the lambda function to `key=lambda x: -x[0]`."
   ]
  },
  {
   "cell_type": "code",
   "execution_count": 5,
   "metadata": {},
   "outputs": [
    {
     "data": {
      "text/plain": [
       "[('Virat Kohli', 24936),\n",
       " ('Jack Kallis', 25534),\n",
       " ('Ricky Ponting', 27483),\n",
       " ('Sachin Tendulkar', 34357)]"
      ]
     },
     "execution_count": 5,
     "metadata": {},
     "output_type": "execute_result"
    }
   ],
   "source": [
    "l = [('Sachin Tendulkar', 34357), ('Ricky Ponting', 27483), ('Jack Kallis', 25534), ('Virat Kohli', 24936)]\n",
    "sorted(l, key=lambda x: x[1])"
   ]
  },
  {
   "cell_type": "markdown",
   "metadata": {},
   "source": [
    "### Q2. Write a Python Program to find the squares of all the numbers in the given list of integers using lambda and map functions.\n",
    "[1, 2, 3, 4, 5, 6, 7, 8, 9, 10]"
   ]
  },
  {
   "cell_type": "code",
   "execution_count": 6,
   "metadata": {},
   "outputs": [
    {
     "data": {
      "text/plain": [
       "[1, 4, 9, 16, 25, 36, 49, 64, 81, 100]"
      ]
     },
     "execution_count": 6,
     "metadata": {},
     "output_type": "execute_result"
    }
   ],
   "source": [
    "li = [1, 2, 3, 4, 5, 6, 7, 8, 9, 10]\n",
    "sq = list(map(lambda x : x**2, li))\n",
    "\n",
    "sq"
   ]
  },
  {
   "cell_type": "markdown",
   "metadata": {},
   "source": [
    "### Q3. Write a python program to convert the given list of integers into a tuple of strings. Use map and lambda functions\n",
    "Given String: [1, 2, 3, 4, 5, 6, 7, 8, 9, 10]\n",
    "Expected output: ('1', '2', '3', '4', '5', '6', '7', '8', '9', '10')"
   ]
  },
  {
   "cell_type": "code",
   "execution_count": 7,
   "metadata": {},
   "outputs": [
    {
     "data": {
      "text/plain": [
       "('1', '2', '3', '4', '5', '6', '7', '8', '9', '10')"
      ]
     },
     "execution_count": 7,
     "metadata": {},
     "output_type": "execute_result"
    }
   ],
   "source": [
    "li =[1, 2, 3, 4, 5, 6, 7, 8, 9, 10]\n",
    "t1 =tuple(map(lambda x : str(x),li))\n",
    "\n",
    "t1"
   ]
  },
  {
   "cell_type": "markdown",
   "metadata": {},
   "source": [
    "### Q4.  Write a python program using reduce function to compute the product of a list containing numbers from 1 to 25."
   ]
  },
  {
   "cell_type": "code",
   "execution_count": 8,
   "metadata": {},
   "outputs": [
    {
     "name": "stdout",
     "output_type": "stream",
     "text": [
      "15511210043330985984000000\n"
     ]
    }
   ],
   "source": [
    "# from functools import reduce\n",
    "# li1 = []\n",
    "# for i in range(26):\n",
    "#     li1.append(i)\n",
    "# a= reduce(lambda x ,y:x*y , li1 )\n",
    "\n",
    "\n",
    "from functools import reduce\n",
    "\n",
    "li1 = list(range(1, 26))  # Create a list from 1 to 25\n",
    "\n",
    "product = reduce(lambda x, y: x * y, li1, 1)  # Specify initial value as 1\n",
    "print(product)"
   ]
  },
  {
   "cell_type": "markdown",
   "metadata": {},
   "source": [
    "### Q5. Write a python program to filter the numbers in a given list that are divisible by 2 and 3 using the filter function.\n",
    "[2, 3, 6, 9, 27, 60, 90, 120, 55, 46]"
   ]
  },
  {
   "cell_type": "code",
   "execution_count": 9,
   "metadata": {},
   "outputs": [
    {
     "name": "stdout",
     "output_type": "stream",
     "text": [
      "[6, 60, 90, 120]\n"
     ]
    }
   ],
   "source": [
    "li = [2, 3, 6, 9, 27, 60, 90, 120, 55, 46]\n",
    "\n",
    "numbers = list(filter(lambda x: x % 2 ==0 and x % 3 ==0, li))\n",
    "print(numbers)"
   ]
  },
  {
   "cell_type": "markdown",
   "metadata": {},
   "source": [
    "### Q6. Write a python program to find palindromes in the given list of strings using lambda and filter function.\n",
    "['python', 'php', 'aba', 'radar', 'level']"
   ]
  },
  {
   "cell_type": "code",
   "execution_count": 10,
   "metadata": {},
   "outputs": [
    {
     "name": "stdout",
     "output_type": "stream",
     "text": [
      "['php', 'aba', 'radar', 'level']\n"
     ]
    }
   ],
   "source": [
    "items =['python', 'php', 'aba', 'radar', 'level']\n",
    "final = list(filter(lambda x :x ==x[::-1], items ))\n",
    "print(final)"
   ]
  }
 ],
 "metadata": {
  "kernelspec": {
   "display_name": "Python 3 (ipykernel)",
   "language": "python",
   "name": "python3"
  },
  "language_info": {
   "codemirror_mode": {
    "name": "ipython",
    "version": 3
   },
   "file_extension": ".py",
   "mimetype": "text/x-python",
   "name": "python",
   "nbconvert_exporter": "python",
   "pygments_lexer": "ipython3",
   "version": "3.10.4"
  }
 },
 "nbformat": 4,
 "nbformat_minor": 2
}
