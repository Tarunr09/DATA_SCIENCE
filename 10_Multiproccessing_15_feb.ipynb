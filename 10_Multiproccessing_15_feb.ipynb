{
 "cells": [
  {
   "cell_type": "markdown",
   "id": "38fda4a9-2deb-4474-b500-b7a08d378e37",
   "metadata": {},
   "source": [
    "## Q1. What is multiprocessing in python? Why is it useful?"
   ]
  },
  {
   "cell_type": "markdown",
   "id": "2a26e7d5-2025-4932-b9e7-b0c93963f9bd",
   "metadata": {},
   "source": [
    "Multiprocessing in Python refers to the ability of a program to create and execute multiple processes concurrently. A process is an independent unit of execution that runs in its memory space, separate from other processes. Each process can have its own Python interpreter, allowing for true parallelism, unlike multithreading, which is limited by the Global Interpreter Lock (GIL).\n",
    "\n",
    "In Python, the \"multiprocessing\" module provides a high-level interface for creating and managing multiple processes. It allows you to take advantage of multiple CPU cores and distribute workload across them, leading to improved performance and efficient utilization of resources.\n",
    "\n",
    "The \"multiprocessing\" module is useful for several reasons:\n",
    "\n",
    "1. **True Parallelism**: Unlike multithreading, multiprocessing allows for true parallel execution of tasks, as each process runs independently in its memory space. This is particularly beneficial for CPU-bound tasks, where performance gains can be significant.\n",
    "\n",
    "2. **Utilizing Multiple Cores**: With multiprocessing, you can leverage the power of modern multi-core processors. By running processes on different cores, you can divide complex computations into smaller chunks and process them simultaneously, reducing overall processing time.\n",
    "\n",
    "3. **Isolation and Stability**: Each process operates independently, which means that if one process crashes or encounters an error, it does not affect other processes. This isolation enhances the stability and reliability of the overall program.\n",
    "\n",
    "4. **Resource Sharing**: Although processes run in separate memory spaces, the \"multiprocessing\" module provides mechanisms for sharing data between processes, such as pipes, queues, and shared memory. This allows for efficient communication and coordination between different processes.\n",
    "\n",
    "5. **Avoiding GIL Limitations**: Python's Global Interpreter Lock (GIL) restricts the execution of Python threads concurrently, limiting the benefits of multithreading for CPU-bound tasks. Multiprocessing sidesteps this limitation by using separate Python interpreters for each process.\n",
    "\n",
    "6. **Scalability**: Multiprocessing is scalable and can handle tasks of varying complexities. You can adjust the number of processes based on the available CPU cores and the nature of the workload.\n",
    "\n",
    "Overall, multiprocessing is a powerful feature in Python that enables developers to harness the full potential of modern hardware, distribute tasks effectively, and achieve true parallelism, making it a valuable tool for performance-critical and CPU-intensive applications."
   ]
  },
  {
   "cell_type": "markdown",
   "id": "8fde48d5-17cf-469a-b8ed-c1134042e38a",
   "metadata": {},
   "source": [
    "## Q2. What are the differences between multiprocessing and multithreading?"
   ]
  },
  {
   "cell_type": "markdown",
   "id": "0a5e649f-da9b-4349-996e-89352ef89faa",
   "metadata": {},
   "source": [
    "The main differences between multiprocessing and multithreading are as follows:\n",
    "\n",
    "(1) **Nature:** Multiprocessing involves the execution of multiple processes, where each process has its own memory space. Multithreading, on the other hand, involves the execution of multiple threads within a single process, sharing the same memory space.\n",
    "\n",
    "(2) **Concurrency:** In multiprocessing, processes can truly run in parallel on multiple CPU cores, utilizing the full power of the system. In multithreading, threads run concurrently within the same process, but they share the CPU time, which means they may not execute in parallel.\n",
    "\n",
    "(3) **Memory:** In multiprocessing, each process has its own memory space, which provides improved memory isolation and reduces the risk of shared data issues. In multithreading, threads share the same memory space, which requires careful synchronization mechanisms to access shared data safely.\n",
    "\n",
    "(4) **Overhead:** Creating and managing processes in multiprocessing typically incurs more overhead compared to creating and managing threads in multithreading. Processes require more system resources and have higher startup and communication costs. However, multiprocessing can provide better performance in CPU-bound tasks due to true parallel execution."
   ]
  },
  {
   "cell_type": "markdown",
   "id": "5375a8da-74dd-4bd9-9e61-9fc1aadb7a01",
   "metadata": {},
   "source": [
    "## Q3. Write a python code to create a process using the multiprocessing module."
   ]
  },
  {
   "cell_type": "markdown",
   "id": "4f95c871-7cfb-4339-b126-186208ef13a9",
   "metadata": {},
   "source": [
    "Here's an example of creating a process using the 'multiprocessing' module in Python:"
   ]
  },
  {
   "cell_type": "code",
   "execution_count": 1,
   "id": "613ab8d9-164a-403c-82dd-f6b9456a443f",
   "metadata": {},
   "outputs": [],
   "source": [
    "import multiprocessing\n",
    "\n",
    "def my_process():\n",
    "    print(\"This is a child process.\")\n",
    "\n",
    "if __name__ == '__main__':\n",
    "    process = multiprocessing.Process(target=my_process)\n",
    "    process.start()\n",
    "    process.join()"
   ]
  },
  {
   "cell_type": "markdown",
   "id": "10cc3604-8820-4908-9ab4-158090af1338",
   "metadata": {},
   "source": [
    "## Q4. What is a multiprocessing pool in python? Why is it used?"
   ]
  },
  {
   "cell_type": "markdown",
   "id": "eccbcc60-f122-41ea-8746-9b49a8888c1e",
   "metadata": {},
   "source": [
    "A multiprocessing pool in Python refers to a group of worker processes that are managed collectively for executing tasks in parallel. The 'multiprocessing.Pool' class in the 'multiprocessing' module is used to create a multiprocessing pool. A multiprocessing pool is used to distribute work among multiple processes and maximize resource utilization. It allows you to parallelize the execution of tasks by dividing them among the available worker processes.\n",
    "\n",
    "Here's a simple example to demonstrate the use of a multiprocessing pool:\n",
    "\n",
    "```python\n",
    "import multiprocessing\n",
    "\n",
    "def square(x):\n",
    "    return x * x\n",
    "\n",
    "if __name__ == \"__main__\":\n",
    "    inputs = [1, 2, 3, 4, 5]\n",
    "\n",
    "    # Create a multiprocessing pool with 2 worker processes\n",
    "    with multiprocessing.Pool(processes=2) as pool:\n",
    "        results = pool.map(square, inputs)\n",
    "\n",
    "    print(\"Squared results:\", results)\n",
    "```\n",
    "\n",
    "Output:\n",
    "```\n",
    "Squared results: [1, 4, 9, 16, 25]\n",
    "```\n",
    "\n",
    "In this example, we define a function `square(x)` to calculate the square of a number. We create a list of input values (`inputs`) and use a multiprocessing pool with two worker processes (`processes=2`) to calculate the squares of all elements in the `inputs` list. The `pool.map()` method is used to distribute the tasks (applying the `square()` function to each input) among the worker processes. The results are collected in the `results` list and printed.\n"
   ]
  },
  {
   "cell_type": "markdown",
   "id": "935c6586-24c1-402e-aec8-4530016d9e37",
   "metadata": {},
   "source": [
    "## Q5. How can we create a pool of worker processes in python using the multiprocessing module?"
   ]
  },
  {
   "cell_type": "markdown",
   "id": "af887015-2efb-4439-948c-795373b4766d",
   "metadata": {},
   "source": [
    "To create a pool of worker processes in Python using the 'multiprocessing' module, you can use the 'multiprocessing.Pool' class. Here's an example:"
   ]
  },
  {
   "cell_type": "code",
   "execution_count": null,
   "id": "465a40df-f827-4905-9a42-517ce4b1ca8a",
   "metadata": {},
   "outputs": [],
   "source": [
    "import multiprocessing\n",
    "\n",
    "def process_task(num):\n",
    "    print(f\"Process {num} executing\")\n",
    "\n",
    "if __name__ == '__main__':\n",
    "    pool = multiprocessing.Pool(processes=4)\n",
    "    nums = [1, 2, 3, 4]\n",
    "    pool.map(process_task, nums)\n",
    "    pool.close()\n",
    "    pool.join()"
   ]
  },
  {
   "cell_type": "markdown",
   "id": "bc8174fd-c7e8-4c0f-a071-1ff8a378aec7",
   "metadata": {},
   "source": [
    "## Q6. Write a python program to create 4 processes, each process should print a different number using the multiprocessing module in python."
   ]
  },
  {
   "cell_type": "markdown",
   "id": "2c704aa6-ad86-47d3-807d-9c05bac777bd",
   "metadata": {},
   "source": [
    "Here's a Python program that creates four processes, and each process prints a different number using the 'multiprocessing' module:\n",
    "\n",
    "In this program, we define the function `print_number(number)` to print the given number along with the process number. We create a list of numbers (`numbers`) that we want to print using the processes.\n",
    "\n",
    "Then, we use the `multiprocessing.Pool` class with 4 worker processes (`processes=4`). The `pool.map()` method distributes the tasks (printing each number) among the worker processes. Each process prints its respective number along with its process number, resulting in four different numbers printed by four different processes."
   ]
  },
  {
   "cell_type": "code",
   "execution_count": null,
   "id": "a0e70507-c75a-4bc8-87ae-48dc88c14dc7",
   "metadata": {},
   "outputs": [],
   "source": [
    "import multiprocessing\n",
    "\n",
    "def print_number(number):\n",
    "    print(f\"Process {number}: {number}\")\n",
    "\n",
    "if __name__ == \"__main__\":\n",
    "    # Create a list of numbers for each process\n",
    "    numbers = [1, 2, 3, 4]\n",
    "\n",
    "    # Create a multiprocessing pool with 4 worker processes\n",
    "    with multiprocessing.Pool(processes=4) as pool:\n",
    "        # Distribute the tasks among the worker processes\n",
    "        pool.map(print_number, numbers)"
   ]
  }
 ],
 "metadata": {
  "kernelspec": {
   "display_name": "Python 3 (ipykernel)",
   "language": "python",
   "name": "python3"
  },
  "language_info": {
   "codemirror_mode": {
    "name": "ipython",
    "version": 3
   },
   "file_extension": ".py",
   "mimetype": "text/x-python",
   "name": "python",
   "nbconvert_exporter": "python",
   "pygments_lexer": "ipython3",
   "version": "3.10.4"
  }
 },
 "nbformat": 4,
 "nbformat_minor": 5
}
